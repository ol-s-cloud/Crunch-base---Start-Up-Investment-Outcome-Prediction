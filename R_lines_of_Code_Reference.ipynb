{
  "nbformat": 4,
  "nbformat_minor": 0,
  "metadata": {
    "colab": {
      "provenance": [],
      "authorship_tag": "ABX9TyMAYwDxDyXqHx2nR96jKIyE",
      "include_colab_link": true
    },
    "kernelspec": {
      "name": "ir",
      "display_name": "R"
    },
    "language_info": {
      "name": "R"
    }
  },
  "cells": [
    {
      "cell_type": "markdown",
      "metadata": {
        "id": "view-in-github",
        "colab_type": "text"
      },
      "source": [
        "<a href=\"https://colab.research.google.com/github/ol-s-cloud/Start-Up-Investment-Outcome-Prediction/blob/main/R_lines_of_Code_Reference.ipynb\" target=\"_parent\"><img src=\"https://colab.research.google.com/assets/colab-badge.svg\" alt=\"Open In Colab\"/></a>"
      ]
    },
    {
      "cell_type": "markdown",
      "source": [
        "R version 4.2.1 (2022-06-23) -- \"Funny-Looking Kid\"\n",
        "Copyright (C) 2022 The R Foundation for Statistical Computing\n",
        "Platform: x86_64-apple-darwin17.0 (64-bit)\n",
        "\n",
        "R is free software and comes with ABSOLUTELY NO WARRANTY.\n",
        "You are welcome to redistribute it under certain conditions.\n",
        "Type 'license()' or 'licence()' for distribution details.\n",
        "\n",
        "  Natural language support but running in an English locale\n",
        "\n",
        "R is a collaborative project with many contributors.\n",
        "Type 'contributors()' for more information and\n",
        "'citation()' on how to cite R or R packages in publications.\n",
        "\n",
        "Type 'demo()' for some demos, 'help()' for on-line help, or\n",
        "'help.start()' for an HTML browser interface to help.\n",
        "Type 'q()' to quit R.\n",
        "\n",
        "[Workspace loaded from ~/Start-Up-Investment-Outcome-Prediction/.RData]\n"
      ],
      "metadata": {
        "id": "tcZ9OzpIr7Bb"
      }
    },
    {
      "cell_type": "code",
      "source": [
        "install.packages(\"readr\")"
      ],
      "metadata": {
        "colab": {
          "base_uri": "https://localhost:8080/"
        },
        "id": "NT4Pvviur_fJ",
        "outputId": "349938b7-3e76-4004-c2df-0234524e41e9"
      },
      "execution_count": 1,
      "outputs": [
        {
          "output_type": "stream",
          "name": "stderr",
          "text": [
            "Installing package into ‘/usr/local/lib/R/site-library’\n",
            "(as ‘lib’ is unspecified)\n",
            "\n"
          ]
        }
      ]
    },
    {
      "cell_type": "code",
      "source": [
        "library(readr)"
      ],
      "metadata": {
        "id": "OMAfCIpGtgu4"
      },
      "execution_count": 6,
      "outputs": []
    },
    {
      "cell_type": "code",
      "source": [
        "library(dplyr)"
      ],
      "metadata": {
        "colab": {
          "base_uri": "https://localhost:8080/"
        },
        "id": "jy8F10v1tiQB",
        "outputId": "72dafd60-9f72-4095-f917-7d6616d69f85"
      },
      "execution_count": 7,
      "outputs": [
        {
          "output_type": "stream",
          "name": "stderr",
          "text": [
            "\n",
            "Attaching package: ‘dplyr’\n",
            "\n",
            "\n",
            "The following objects are masked from ‘package:stats’:\n",
            "\n",
            "    filter, lag\n",
            "\n",
            "\n",
            "The following objects are masked from ‘package:base’:\n",
            "\n",
            "    intersect, setdiff, setequal, union\n",
            "\n",
            "\n"
          ]
        }
      ]
    }
  ]
}